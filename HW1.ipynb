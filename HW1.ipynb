{
  "cells": [
    {
      "cell_type": "markdown",
      "metadata": {
        "id": "qyzlOAYz0abj"
      },
      "source": [
        "# Homework 1"
      ]
    },
    {
      "cell_type": "markdown",
      "metadata": {
        "id": "-lLt3FGv0flg"
      },
      "source": [
        "We'll use the first assignment to make sure everyone is comfortable with some basic python.  We'll be doing all of our HW assignments in Jupyter notebooks, and submitting assigments by committing notebooks to your own gitlab repository (that you've shared with me).  "
      ]
    },
    {
      "cell_type": "markdown",
      "metadata": {
        "id": "e-r3fsIX04yh"
      },
      "source": [
        "The first part of a notebook should always be the libraries we'll use in the rest of the notebook.  We include them at the top so we know what packages we may need to download and/or install."
      ]
    },
    {
      "cell_type": "code",
      "execution_count": null,
      "metadata": {
        "id": "SwhoQCFTzC6w"
      },
      "outputs": [],
      "source": [
        "%matplotlib inline\n",
        "import matplotlib.pyplot as plt\n",
        "import numpy as np\n",
        "import matplotlib as mpl\n",
        "import math"
      ]
    },
    {
      "cell_type": "markdown",
      "metadata": {
        "id": "rrGmoc891CtF"
      },
      "source": [
        "If we're working in Google Colab, we'll also want to give Colab access to our Google Drive space, so that we can get other python code, data files, and other things that may be needed as part of the assignment.  Executing the cell below should open a browser window that prompts you to connect the notebook to Google Drive."
      ]
    },
    {
      "cell_type": "code",
      "execution_count": null,
      "metadata": {
        "colab": {
          "base_uri": "https://localhost:8080/"
        },
        "id": "rsxrVKD31PvC",
        "outputId": "8abb22b9-c49e-44de-815a-740030fd97af"
      },
      "outputs": [
        {
          "output_type": "stream",
          "name": "stdout",
          "text": [
            "Mounted at /content/gdrive\n"
          ]
        }
      ],
      "source": [
        "try:\n",
        "  import google.colab\n",
        "  IN_COLAB = True\n",
        "except:\n",
        "  IN_COLAB = False\n",
        "\n",
        "if IN_COLAB:\n",
        "  from google.colab import drive\n",
        "  drive.mount('/content/gdrive')"
      ]
    },
    {
      "cell_type": "markdown",
      "metadata": {
        "id": "7NwF0GKe1q0Q"
      },
      "source": [
        "We should see \"Mounted at /content/gdrive\" above if everything worked.  Now try to create a file, put something into it, check that it worked, then remove the file:"
      ]
    },
    {
      "cell_type": "code",
      "execution_count": null,
      "metadata": {
        "colab": {
          "base_uri": "https://localhost:8080/"
        },
        "id": "tPBncQh-16x8",
        "outputId": "23cabb9d-c735-41d9-e66f-e189646b07e2"
      },
      "outputs": [
        {
          "output_type": "stream",
          "name": "stdout",
          "text": [
            "gdrive\tmyHW1test.txt  sample_data\n",
            "PHYS 152 is the best!\n",
            "gdrive\tsample_data\n"
          ]
        }
      ],
      "source": [
        "if IN_COLAB:\n",
        "    !echo \"PHYS 152 is the best!\" > myHW1test.txt    # Create a new file that contains some text\n",
        "    !ls .                                            # Check that the file was created\n",
        "    !cat myHW1test.txt                               # Look at the contents of the file\n",
        "    !rm myHW1test.txt                                # Remove the file\n",
        "    !ls .                                            # Check that the file was removed"
      ]
    },
    {
      "cell_type": "markdown",
      "metadata": {
        "id": "pdp0bMb4Ok3e"
      },
      "source": [
        "# Some Basics"
      ]
    },
    {
      "cell_type": "markdown",
      "metadata": {
        "id": "HJDhYejEzTq1"
      },
      "source": [
        "First let's go through some basics of python, numpy, and plotting.  I assume a basic familiarity with python, so we'll start right up with numerical methods.\n"
      ]
    },
    {
      "cell_type": "code",
      "execution_count": null,
      "metadata": {
        "id": "4OSB15pjzePo"
      },
      "outputs": [],
      "source": [
        "def create_python_array(n=100):\n",
        "    y = []\n",
        "    for x in range(n):\n",
        "        y.append(math.sin(math.pi * x / n))\n",
        "    return y"
      ]
    },
    {
      "cell_type": "code",
      "execution_count": null,
      "metadata": {
        "colab": {
          "base_uri": "https://localhost:8080/"
        },
        "id": "_cd_OsUb3tby",
        "outputId": "959dfb1f-7ab8-442c-f121-59be791203a6"
      },
      "outputs": [
        {
          "output_type": "stream",
          "name": "stdout",
          "text": [
            "CPU times: user 252 ms, sys: 5.99 ms, total: 258 ms\n",
            "Wall time: 263 ms\n"
          ]
        }
      ],
      "source": [
        "%time y1=create_python_array(int(1e6))"
      ]
    },
    {
      "cell_type": "markdown",
      "metadata": {
        "id": "E6XwRGCK4Y4v"
      },
      "source": [
        "This gives us a list of values, which can be manipulated in all sorts of crazy ways:"
      ]
    },
    {
      "cell_type": "code",
      "execution_count": null,
      "metadata": {
        "id": "KDmtux9e30rQ"
      },
      "outputs": [],
      "source": [
        "y1[2]=\"This is not a number\"\n",
        "y1.append(-1)"
      ]
    },
    {
      "cell_type": "markdown",
      "metadata": {
        "id": "FtM18ZiP47Uf"
      },
      "source": [
        "Now let's do something similar with numpy arrays:"
      ]
    },
    {
      "cell_type": "code",
      "execution_count": null,
      "metadata": {
        "id": "ctkKKGde4RPP"
      },
      "outputs": [],
      "source": [
        "def create_numpy_array(n=100):\n",
        "    x = np.arange(n)\n",
        "    y = np.sin(np.pi * x / n)\n",
        "    return x,y"
      ]
    },
    {
      "cell_type": "code",
      "execution_count": null,
      "metadata": {
        "colab": {
          "base_uri": "https://localhost:8080/"
        },
        "id": "to_X-vLr55M2",
        "outputId": "80c1a43c-7634-4545-971e-391cb9e54c50"
      },
      "outputs": [
        {
          "output_type": "stream",
          "name": "stdout",
          "text": [
            "CPU times: user 22.2 ms, sys: 4.72 ms, total: 26.9 ms\n",
            "Wall time: 41.4 ms\n"
          ]
        }
      ],
      "source": [
        "%time x,y2=create_numpy_array(int(1e6))"
      ]
    },
    {
      "cell_type": "markdown",
      "metadata": {
        "id": "R_5qF_th6HN-"
      },
      "source": [
        "This went much faster, and now this structure can only hold numbers.  Note the use of `np.arange(n)`, which made an array integers from `0` to `n-1`:"
      ]
    },
    {
      "cell_type": "code",
      "execution_count": null,
      "metadata": {
        "colab": {
          "base_uri": "https://localhost:8080/"
        },
        "id": "XIukkmFf6Csp",
        "outputId": "eb5d2d5f-fba4-4ae4-f8ca-03fc19d113e0"
      },
      "outputs": [
        {
          "output_type": "execute_result",
          "data": {
            "text/plain": [
              "array([0, 1, 2, 3, 4, 5, 6, 7, 8, 9])"
            ]
          },
          "metadata": {},
          "execution_count": 9
        }
      ],
      "source": [
        "np.arange(10)"
      ]
    },
    {
      "cell_type": "markdown",
      "metadata": {
        "id": "R_X90AHU6kPc"
      },
      "source": [
        "We can use `np.linspace` to create an array of floats with some constant spacing.  Note it takes 11 steps to go from 0 to 1.0 (inclusive) in steps of 0.1!"
      ]
    },
    {
      "cell_type": "code",
      "execution_count": null,
      "metadata": {
        "colab": {
          "base_uri": "https://localhost:8080/"
        },
        "id": "gAk_KzD76fPJ",
        "outputId": "bee7c9d1-74d5-4f64-82c3-48c7e48f02fa"
      },
      "outputs": [
        {
          "output_type": "execute_result",
          "data": {
            "text/plain": [
              "array([0. , 0.1, 0.2, 0.3, 0.4, 0.5, 0.6, 0.7, 0.8, 0.9, 1. ])"
            ]
          },
          "metadata": {},
          "execution_count": 10
        }
      ],
      "source": [
        "np.linspace(0,1,11)"
      ]
    },
    {
      "cell_type": "markdown",
      "metadata": {
        "id": "yiXTG7D_7FE8"
      },
      "source": [
        "With this, now we can plot the results of our functions above:"
      ]
    },
    {
      "cell_type": "code",
      "execution_count": null,
      "metadata": {
        "colab": {
          "base_uri": "https://localhost:8080/",
          "height": 465
        },
        "id": "HTzPOGfQ6vG9",
        "outputId": "54a04b3a-d5d2-4a7c-ec60-1238cb87a5f9"
      },
      "outputs": [
        {
          "output_type": "execute_result",
          "data": {
            "text/plain": [
              "[<matplotlib.lines.Line2D at 0x7fc39f402340>]"
            ]
          },
          "metadata": {},
          "execution_count": 11
        },
        {
          "output_type": "display_data",
          "data": {
            "text/plain": [
              "<Figure size 640x480 with 1 Axes>"
            ],
            "image/png": "[encoded data removed]"
          },
          "metadata": {}
        }
      ],
      "source": [
        "plt.plot(x,y2)"
      ]
    },
    {
      "cell_type": "markdown",
      "metadata": {
        "id": "1ltHZuoZ8KO3"
      },
      "source": [
        "This is a start, but let's make this a proper plot, with some axis labels and so on."
      ]
    },
    {
      "cell_type": "code",
      "execution_count": null,
      "metadata": {
        "colab": {
          "base_uri": "https://localhost:8080/",
          "height": 449
        },
        "id": "QpFtDoRG74zi",
        "outputId": "634d4b54-3ea8-41f0-a588-de303c619234"
      },
      "outputs": [
        {
          "output_type": "display_data",
          "data": {
            "text/plain": [
              "<Figure size 640x480 with 1 Axes>"
            ],
            "image/png": "[encoded data removed]"
          },
          "metadata": {}
        }
      ],
      "source": [
        "plt.plot(x,y2)\n",
        "plt.ylabel(\"$\\sin(\\pi*x/n)$\")\n",
        "plt.xlabel(\"x\")\n",
        "plt.show()"
      ]
    },
    {
      "cell_type": "markdown",
      "metadata": {
        "id": "e8kL1md0ABk_"
      },
      "source": [
        "An even simpler way would be to plot the function directly, and in this example we'll use `np.linspace` and not divide by `n`:"
      ]
    },
    {
      "cell_type": "code",
      "execution_count": null,
      "metadata": {
        "colab": {
          "base_uri": "https://localhost:8080/",
          "height": 449
        },
        "id": "_ZGLVdXE_syv",
        "outputId": "0b263fc0-57fa-44f2-8ab4-f2fa96aa4c88"
      },
      "outputs": [
        {
          "output_type": "display_data",
          "data": {
            "text/plain": [
              "<Figure size 640x480 with 1 Axes>"
            ],
            "image/png": "[encoded data removed]"
          },
          "metadata": {}
        }
      ],
      "source": [
        "def create_numpy_array_2(xvalues):\n",
        "  y=np.sin(math.pi*xvalues)\n",
        "  return y\n",
        "\n",
        "x3=np.linspace(0,1,int(1e6))\n",
        "plt.plot(x3,create_numpy_array_2(x3))\n",
        "plt.ylabel(\"$\\sin(\\pi*x)$\")\n",
        "plt.xlabel(\"x\")\n",
        "plt.show()"
      ]
    },
    {
      "cell_type": "markdown",
      "metadata": {
        "id": "S-FcNAenBqq6"
      },
      "source": [
        "Let's overlay two plots, say `sin` and `cos` to see what they both look like:"
      ]
    },
    {
      "cell_type": "code",
      "execution_count": null,
      "metadata": {
        "colab": {
          "base_uri": "https://localhost:8080/",
          "height": 449
        },
        "id": "XmSoowbw_OdZ",
        "outputId": "36a94dd1-f6b5-4f07-bee2-3e4e8bb20d6f"
      },
      "outputs": [
        {
          "output_type": "display_data",
          "data": {
            "text/plain": [
              "<Figure size 640x480 with 1 Axes>"
            ],
            "image/png": "[encoded data removed]"
          },
          "metadata": {}
        }
      ],
      "source": [
        "plt.plot(x3,np.sin(math.pi*x3),label=\"$\\sin(\\pi*x)$\")\n",
        "plt.plot(x3,np.cos(math.pi*x3),label=\"$\\cos(\\pi*x)$\")\n",
        "plt.ylabel(\"y\")\n",
        "plt.xlabel(\"x\")\n",
        "plt.legend(fontsize='x-large')\n",
        "plt.show()"
      ]
    },
    {
      "cell_type": "markdown",
      "metadata": {
        "id": "9Flwbg9jHhui"
      },
      "source": [
        "We can also make histograms, showing the frequency of certain elements in a data sample:"
      ]
    },
    {
      "cell_type": "code",
      "execution_count": null,
      "metadata": {
        "colab": {
          "base_uri": "https://localhost:8080/",
          "height": 470
        },
        "id": "nNeqtFyBHnSb",
        "outputId": "439fc3ce-27c8-42a2-8099-5c9dbed20d75"
      },
      "outputs": [
        {
          "output_type": "execute_result",
          "data": {
            "text/plain": [
              "Text(0, 0.5, 'Entries/Bin')"
            ]
          },
          "metadata": {},
          "execution_count": 15
        },
        {
          "output_type": "display_data",
          "data": {
            "text/plain": [
              "<Figure size 640x480 with 1 Axes>"
            ],
            "image/png": "[encoded data removed]"
          },
          "metadata": {}
        }
      ],
      "source": [
        "counts,bins,_=plt.hist(y2,bins=10,range=(0,1))\n",
        "plt.xlabel(\"y\")\n",
        "plt.ylabel(\"Entries/Bin\")"
      ]
    },
    {
      "cell_type": "markdown",
      "metadata": {
        "id": "Wu-HasdPOu98"
      },
      "source": [
        "where now we have access to the contents of the histogram:"
      ]
    },
    {
      "cell_type": "code",
      "execution_count": null,
      "metadata": {
        "colab": {
          "base_uri": "https://localhost:8080/"
        },
        "id": "lMark_O_Ox6N",
        "outputId": "52552cc0-c8d1-47c9-c144-7c8bde6711c3"
      },
      "outputs": [
        {
          "output_type": "stream",
          "name": "stdout",
          "text": [
            "[ 63769.  64420.  65784.  68006.  71354.  76332.  83968.  96702. 122532.\n",
            " 287133.]\n",
            "[0.  0.1 0.2 0.3 0.4 0.5 0.6 0.7 0.8 0.9 1. ]\n"
          ]
        }
      ],
      "source": [
        "print(counts) # the \"Entries/Bin\" above\n",
        "print(bins)   # the edges of the bins"
      ]
    },
    {
      "cell_type": "markdown",
      "metadata": {
        "id": "DBEG_s7p3xCF"
      },
      "source": [
        "For our purposes, it is often useful to be able to normalize the distribution to unit area, by using the `density` option:"
      ]
    },
    {
      "cell_type": "code",
      "execution_count": null,
      "metadata": {
        "colab": {
          "base_uri": "https://localhost:8080/",
          "height": 505
        },
        "id": "Mx3SDeY83xCF",
        "outputId": "75579d25-c9ec-4e5c-f4c1-6a68f5ac75f3"
      },
      "outputs": [
        {
          "output_type": "stream",
          "name": "stdout",
          "text": [
            "[0.63769 0.6442  0.65784 0.68006 0.71354 0.76332 0.83968 0.96702 1.22532\n",
            " 2.87133]\n",
            "[0.  0.1 0.2 0.3 0.4 0.5 0.6 0.7 0.8 0.9 1. ]\n"
          ]
        },
        {
          "output_type": "display_data",
          "data": {
            "text/plain": [
              "<Figure size 640x480 with 1 Axes>"
            ],
            "image/png": "[encoded data removed]"
          },
          "metadata": {}
        }
      ],
      "source": [
        "counts,bins,_=plt.hist(y2,bins=10,range=(0,1),density=True)\n",
        "plt.xlabel(\"y\")\n",
        "plt.ylabel(\"1/N dN/dy\")\n",
        "print(counts) # the \"Entries/Bin\" above\n",
        "print(bins)   # the edges of the bins"
      ]
    },
    {
      "cell_type": "markdown",
      "metadata": {
        "id": "zzKyV_bsNnwy"
      },
      "source": [
        "# Problem 1 (30 points)\n",
        "\n",
        "\n",
        "Make a plot showing the different activtation functions we discussed in class, in the range from -3 to 3:\n",
        "\n",
        "*   Sigmoid\n",
        "*   tanh\n",
        "*   ReLU\n",
        "\n"
      ]
    },
    {
      "cell_type": "code",
      "execution_count": null,
      "metadata": {
        "colab": {
          "base_uri": "https://localhost:8080/",
          "height": 466
        },
        "id": "A6fPCUuOCTi6",
        "outputId": "bddd3bc1-f459-4815-a1a5-8a7053a470bc"
      },
      "outputs": [
        {
          "output_type": "execute_result",
          "data": {
            "text/plain": [
              "[<matplotlib.lines.Line2D at 0x7fc39df3d3a0>]"
            ]
          },
          "metadata": {},
          "execution_count": 18
        },
        {
          "output_type": "display_data",
          "data": {
            "text/plain": [
              "<Figure size 640x480 with 1 Axes>"
            ],
            "image/png": "[encoded data removed]"
          },
          "metadata": {}
        }
      ],
      "source": [
        "def sigmoid(z):\n",
        "  return 1/(1+np.exp(-z))\n",
        "q1=np.linspace(-3,3,int(1e6))\n",
        "plt.xlabel(\"x\")\n",
        "plt.ylabel(\"sigmoid\")\n",
        "plt.plot(q1,sigmoid(q1))"
      ]
    },
    {
      "cell_type": "code",
      "source": [
        "def tanh(z):\n",
        "  return(np.tanh(z))\n",
        "plt.xlabel(\"x\")\n",
        "plt.ylabel(\"tanh(x)\")\n",
        "plt.plot(q1,tanh(q1))"
      ],
      "metadata": {
        "colab": {
          "base_uri": "https://localhost:8080/",
          "height": 466
        },
        "id": "yuqEW7Ge5Q1i",
        "outputId": "9fc54cd1-ee91-4c41-981c-c5a29cf6cce8"
      },
      "execution_count": null,
      "outputs": [
        {
          "output_type": "execute_result",
          "data": {
            "text/plain": [
              "[<matplotlib.lines.Line2D at 0x7fc39df7d760>]"
            ]
          },
          "metadata": {},
          "execution_count": 22
        },
        {
          "output_type": "display_data",
          "data": {
            "text/plain": [
              "<Figure size 640x480 with 1 Axes>"
            ],
            "image/png": "[encoded data removed]"
          },
          "metadata": {}
        }
      ]
    },
    {
      "cell_type": "code",
      "source": [
        "def ReLU(z):\n",
        "  return(np.maximum(0,z))\n",
        "\n",
        "plt.xlabel(\"x\")\n",
        "plt.ylabel(\"ReLU(x)\")\n",
        "plt.plot(q1,ReLU(q1))"
      ],
      "metadata": {
        "colab": {
          "base_uri": "https://localhost:8080/",
          "height": 466
        },
        "id": "W9rKZXWl6V3d",
        "outputId": "e5b708b4-1839-4943-bedd-d5605480f783"
      },
      "execution_count": null,
      "outputs": [
        {
          "output_type": "execute_result",
          "data": {
            "text/plain": [
              "[<matplotlib.lines.Line2D at 0x7fc39f2cd9d0>]"
            ]
          },
          "metadata": {},
          "execution_count": 30
        },
        {
          "output_type": "display_data",
          "data": {
            "text/plain": [
              "<Figure size 640x480 with 1 Axes>"
            ],
            "image/png": "[encoded data removed]"
          },
          "metadata": {}
        }
      ]
    },
    {
      "cell_type": "markdown",
      "metadata": {
        "id": "2MvtHx4kOrQp"
      },
      "source": [
        "# Vectors, Matrices, and Tensors in Python"
      ]
    },
    {
      "cell_type": "markdown",
      "metadata": {
        "id": "szuXfqpAO5jR"
      },
      "source": [
        "We can create more than just lists of numbers:"
      ]
    },
    {
      "cell_type": "code",
      "execution_count": null,
      "metadata": {
        "id": "Of-wf5YEO4ua"
      },
      "outputs": [],
      "source": [
        "vector = np.ones(shape=(4,))\n",
        "matrix = np.ones(shape=(3, 4))\n",
        "tensor = np.ones(shape=(2, 3, 4))"
      ]
    },
    {
      "cell_type": "code",
      "execution_count": null,
      "metadata": {
        "colab": {
          "base_uri": "https://localhost:8080/"
        },
        "id": "rNtzHjA1Poe7",
        "outputId": "fb0f6485-0abd-41c6-c93d-ba612689c8bb"
      },
      "outputs": [
        {
          "output_type": "stream",
          "name": "stdout",
          "text": [
            "[1. 1. 1. 1.]\n"
          ]
        }
      ],
      "source": [
        "print(vector)"
      ]
    },
    {
      "cell_type": "code",
      "execution_count": null,
      "metadata": {
        "colab": {
          "base_uri": "https://localhost:8080/"
        },
        "id": "HPHs-RaAPMXN",
        "outputId": "b28d8f2d-9eb8-4dd8-fe25-e59b094b0ca6"
      },
      "outputs": [
        {
          "output_type": "stream",
          "name": "stdout",
          "text": [
            "[[1. 1. 1. 1.]\n",
            " [1. 1. 1. 1.]\n",
            " [1. 1. 1. 1.]]\n"
          ]
        }
      ],
      "source": [
        "print(matrix)"
      ]
    },
    {
      "cell_type": "code",
      "execution_count": null,
      "metadata": {
        "colab": {
          "base_uri": "https://localhost:8080/"
        },
        "id": "Df1pqVNGPhXu",
        "outputId": "7ac97aa7-4fa7-4ee7-e03c-7188985ed5d2"
      },
      "outputs": [
        {
          "output_type": "stream",
          "name": "stdout",
          "text": [
            "[[[1. 1. 1. 1.]\n",
            "  [1. 1. 1. 1.]\n",
            "  [1. 1. 1. 1.]]\n",
            "\n",
            " [[1. 1. 1. 1.]\n",
            "  [1. 1. 1. 1.]\n",
            "  [1. 1. 1. 1.]]]\n"
          ]
        }
      ],
      "source": [
        "print(tensor)"
      ]
    },
    {
      "cell_type": "markdown",
      "metadata": {
        "id": "0d_AdW6yPrIc"
      },
      "source": [
        "We can access different elements of these objects using indices:"
      ]
    },
    {
      "cell_type": "code",
      "execution_count": null,
      "metadata": {
        "colab": {
          "base_uri": "https://localhost:8080/"
        },
        "id": "mBk_d7jFPiex",
        "outputId": "276d6a6c-ab68-418b-c691-7f056a0b8945"
      },
      "outputs": [
        {
          "output_type": "stream",
          "name": "stdout",
          "text": [
            "[1. 9. 1. 1.]\n"
          ]
        }
      ],
      "source": [
        "vector[1]=9\n",
        "print(vector)"
      ]
    },
    {
      "cell_type": "code",
      "execution_count": null,
      "metadata": {
        "colab": {
          "base_uri": "https://localhost:8080/"
        },
        "id": "vsgwgAjgPzbL",
        "outputId": "356ffc43-26d3-4a6b-afbc-0663a0684247"
      },
      "outputs": [
        {
          "output_type": "stream",
          "name": "stdout",
          "text": [
            "[[1. 1. 1. 1.]\n",
            " [2. 2. 2. 2.]\n",
            " [1. 1. 1. 1.]]\n"
          ]
        }
      ],
      "source": [
        "matrix[1,:]=2 # single row\n",
        "print(matrix)"
      ]
    },
    {
      "cell_type": "code",
      "execution_count": null,
      "metadata": {
        "colab": {
          "base_uri": "https://localhost:8080/"
        },
        "id": "DM12I0UaP65q",
        "outputId": "3a128c55-7020-488e-c673-144b25b3d74a"
      },
      "outputs": [
        {
          "output_type": "stream",
          "name": "stdout",
          "text": [
            "[[1. 1. 1. 4.]\n",
            " [2. 2. 2. 4.]\n",
            " [1. 1. 1. 4.]]\n"
          ]
        }
      ],
      "source": [
        "matrix[:,3]=4 # single column\n",
        "print(matrix)"
      ]
    },
    {
      "cell_type": "code",
      "execution_count": null,
      "metadata": {
        "colab": {
          "base_uri": "https://localhost:8080/"
        },
        "id": "RqXRA7OVAagY",
        "outputId": "10a32253-dbb0-4556-f455-50f03b9c70a1"
      },
      "outputs": [
        {
          "output_type": "execute_result",
          "data": {
            "text/plain": [
              "array([[1., 2., 1.],\n",
              "       [1., 2., 1.],\n",
              "       [1., 2., 1.],\n",
              "       [4., 4., 4.]])"
            ]
          },
          "metadata": {},
          "execution_count": 39
        }
      ],
      "source": [
        "matrix.T # transpose"
      ]
    },
    {
      "cell_type": "code",
      "execution_count": null,
      "metadata": {
        "colab": {
          "base_uri": "https://localhost:8080/"
        },
        "id": "Qmg4ngo0QB25",
        "outputId": "2710af23-edbf-47b0-f9af-84420a0def50"
      },
      "outputs": [
        {
          "output_type": "stream",
          "name": "stdout",
          "text": [
            "[[[5. 5. 5. 1.]\n",
            "  [5. 5. 5. 1.]\n",
            "  [1. 1. 1. 1.]]\n",
            "\n",
            " [[1. 1. 1. 1.]\n",
            "  [1. 1. 1. 1.]\n",
            "  [1. 1. 1. 1.]]]\n"
          ]
        }
      ],
      "source": [
        "tensor[0,:2,:3]=5 # subsets of a matrix, up to (but not including) row 2 and up to (but not including) column 3 in matrix 0\n",
        "print(tensor)"
      ]
    },
    {
      "cell_type": "markdown",
      "metadata": {
        "id": "VWD05bYfQjVc"
      },
      "source": [
        "We can use dot products too:"
      ]
    },
    {
      "cell_type": "code",
      "execution_count": null,
      "metadata": {
        "colab": {
          "base_uri": "https://localhost:8080/"
        },
        "id": "Y9oX2vruQinz",
        "outputId": "89b3edd6-621d-419a-eca4-1f08512f27cd"
      },
      "outputs": [
        {
          "output_type": "stream",
          "name": "stdout",
          "text": [
            "84.0\n"
          ]
        }
      ],
      "source": [
        "magnitude=vector.dot(vector)\n",
        "print(magnitude)"
      ]
    },
    {
      "cell_type": "code",
      "execution_count": null,
      "metadata": {
        "colab": {
          "base_uri": "https://localhost:8080/"
        },
        "id": "pDKxr_25QMUb",
        "outputId": "d44c7282-a644-41f9-8747-479890ee5819"
      },
      "outputs": [
        {
          "output_type": "stream",
          "name": "stdout",
          "text": [
            "[15. 26. 15.]\n"
          ]
        }
      ],
      "source": [
        "rotatedvector=matrix.dot(vector)\n",
        "print(rotatedvector)"
      ]
    },
    {
      "cell_type": "code",
      "execution_count": null,
      "metadata": {
        "colab": {
          "base_uri": "https://localhost:8080/"
        },
        "id": "oP105H-PAmf5",
        "outputId": "fa63f1e9-c74b-43e0-df41-eaf55a47dffe"
      },
      "outputs": [
        {
          "output_type": "execute_result",
          "data": {
            "text/plain": [
              "array([[19., 22., 19.],\n",
              "       [22., 28., 22.],\n",
              "       [19., 22., 19.]])"
            ]
          },
          "metadata": {},
          "execution_count": 43
        }
      ],
      "source": [
        "matrix.dot(matrix.T)"
      ]
    },
    {
      "cell_type": "markdown",
      "metadata": {
        "id": "-xJj5gUmT7hN"
      },
      "source": [
        "We can use `np.einsum` to do something fancier, and evaluate expressions like $x^{ij}y_{jk}=z^{i}_{k}$, where repeated indices are summed over (called Einstein summation notation, seen often in General Relativity).  You can find some documenation on `numpy.einsum` [here](https://numpy.org/doc/stable/reference/generated/numpy.einsum.html)."
      ]
    },
    {
      "cell_type": "code",
      "execution_count": null,
      "metadata": {
        "colab": {
          "base_uri": "https://localhost:8080/"
        },
        "id": "GkJtDwcIU5Jq",
        "outputId": "28c97373-2b74-4567-dbdd-e3096576e617"
      },
      "outputs": [
        {
          "output_type": "stream",
          "name": "stdout",
          "text": [
            "[[ 0  1  2  3]\n",
            " [ 4  5  6  7]\n",
            " [ 8  9 10 11]\n",
            " [12 13 14 15]]\n",
            "[[16 17 18 19]\n",
            " [20 21 22 23]\n",
            " [24 25 26 27]\n",
            " [28 29 30 31]]\n",
            "[[ 152  158  164  170]\n",
            " [ 504  526  548  570]\n",
            " [ 856  894  932  970]\n",
            " [1208 1262 1316 1370]]\n"
          ]
        }
      ],
      "source": [
        "x=np.arange(16).reshape(4,4) # make a matrix out of consecutive numbers\n",
        "y=(np.arange(16)+16).reshape(4,4)\n",
        "print(x)\n",
        "print(y)\n",
        "print(np.einsum('ij,jk',x,y))"
      ]
    },
    {
      "cell_type": "markdown",
      "metadata": {
        "id": "6oozlCHvTJx4"
      },
      "source": [
        "# Problem 2 (30 points)\n",
        "\n",
        "Let's write a function that will evaluate the tensor expression $g^{il}\\Gamma_{ki}^{m}x^{k}$.  Use `np.einsum` to do the evaluation within the skeleton function below."
      ]
    },
    {
      "cell_type": "code",
      "execution_count": null,
      "metadata": {
        "id": "kAKYUn6hQ2Iw",
        "colab": {
          "base_uri": "https://localhost:8080/"
        },
        "outputId": "a881cd81-5c0f-4044-fa78-dfe6bb102053"
      },
      "outputs": [
        {
          "output_type": "stream",
          "name": "stdout",
          "text": [
            "[[ 1680  3984  6288  8592]\n",
            " [ 1940  4628  7316 10004]\n",
            " [ 2200  5272  8344 11416]\n",
            " [ 2460  5916  9372 12828]]\n",
            "(4, 4)\n",
            "[[ 1680  3984  6288  8592]\n",
            " [ 1940  4628  7316 10004]\n",
            " [ 2200  5272  8344 11416]\n",
            " [ 2460  5916  9372 12828]]\n",
            "(4, 4)\n"
          ]
        }
      ],
      "source": [
        "def tensor_expr(g, Gamma, x, D=4):\n",
        "    \"\"\"Evaluate the tensor expression above.\n",
        "\n",
        "    Parameters\n",
        "    ----------\n",
        "    g : array\n",
        "        Numpy array of shape (D, D)\n",
        "    Gamma : array\n",
        "        Numpy array of shape (D, D, D)\n",
        "    x : array\n",
        "        Numpy array of shape (D)\n",
        "    D : int\n",
        "        Dimension of input tensors.\n",
        "\n",
        "    Returns\n",
        "    -------\n",
        "    array\n",
        "        Numpy array of shape (D, D) that evaluates the tensor expression.\n",
        "    \"\"\"\n",
        "    assert g.shape == (D, D)\n",
        "    assert Gamma.shape == (D, D, D)\n",
        "    assert x.shape == (D,)\n",
        "\n",
        "    # your code here, setting 'result' appropriately\n",
        "\n",
        "    result=np.einsum('il,mki,k',g,Gamma, x)\n",
        "    return(result)\n",
        "g = np.arange(4 ** 2).reshape(4, 4)\n",
        "Gamma = np.arange(4 ** 3).reshape(4, 4, 4)\n",
        "x = np.arange(4)\n",
        "y = tensor_expr(g, Gamma, x)\n",
        "print(y)\n",
        "print(y.shape)\n",
        "\n",
        "z=np.array([[ 1680,  3984,  6288,  8592], [ 1940,  4628,  7316, 10004],\n",
        "     [ 2200,  5272,  8344, 11416], [ 2460,  5916,  9372, 12828]])\n",
        "print(z)\n",
        "print(z.shape)"
      ]
    },
    {
      "cell_type": "code",
      "execution_count": null,
      "metadata": {
        "id": "uFpyrrOXTuni"
      },
      "outputs": [],
      "source": [
        "# A correct solution should pass the following tests:\n",
        "g = np.arange(4 ** 2).reshape(4, 4)\n",
        "Gamma = np.arange(4 ** 3).reshape(4, 4, 4)\n",
        "x = np.arange(4)\n",
        "y = tensor_expr(g, Gamma, x)\n",
        "assert np.array_equal(\n",
        "    y,\n",
        "    [[ 1680,  3984,  6288,  8592], [ 1940,  4628,  7316, 10004],\n",
        "     [ 2200,  5272,  8344, 11416], [ 2460,  5916,  9372, 12828]])\n",
        "\n"
      ]
    },
    {
      "cell_type": "markdown",
      "metadata": {
        "id": "0Q0czTzwTtoN"
      },
      "source": [
        "# Loss functions"
      ]
    },
    {
      "cell_type": "markdown",
      "metadata": {
        "id": "gOIsIqDRdYxY"
      },
      "source": [
        "We calculated the objective function (also called the loss or loss function, the error, and other names) as:\n",
        "\n",
        "$$\\mathcal{L} = -\\frac{1}{m}\\sum_{j=1}^{m} \\left[\\sum_{i=1}^{k} p_{i}\\ln q_{i}\\right]_{j}$$\n",
        "\n",
        "where $j$ is iterating over events, and $i$ is iterating over categories.  But we can more generally write this as:\n",
        "\n",
        "$$\\mathcal{L} = \\frac{1}{m}\\sum_{j=1}^{m} \\left[H(p,q)\\right]_{j}$$\n",
        "\n",
        "where $H(p,q)$ is any appropriate objective function.  Depending on the nature of $H$, the objective function $\\mathcal{L}$ for a given set of events may be easier/harder to calculate.  "
      ]
    },
    {
      "cell_type": "markdown",
      "metadata": {
        "id": "4qjcwZnHNUeY"
      },
      "source": [
        "For example, let's consider the case where $H(p,q)$ is just defined by the mean-square-error:\n",
        "\n",
        "$$ \\mathcal{L}=\\frac{1}{m}\\sum_{j=1}^{m} \\left[ \\left(f(x_j)-y(x_j)\\right)^2 \\right]_{j}$$\n",
        "\n",
        "where $f(x_j)$ represents the output of the algorithm and $y(x_j)$ represents the true classification label for event with features $x_j$.  "
      ]
    },
    {
      "cell_type": "markdown",
      "metadata": {
        "id": "D-ud1Pj7NWSn"
      },
      "source": [
        "If we're not interested in classification, but instead we want to predict a value on a continuum, then that's a problem for *regression*.  In that case, we adjust our interpretation of the elements in the formula above: `m` is the number of data points in a distribution that we're comparing to, rather than the number of events that make up the distribution.  "
      ]
    },
    {
      "cell_type": "markdown",
      "metadata": {
        "id": "TmbyDUC2F4zq"
      },
      "source": [
        "# Problem 3 (40 points)"
      ]
    },
    {
      "cell_type": "markdown",
      "metadata": {
        "id": "aMjeCAtAF7Lv"
      },
      "source": [
        "Let's get some practice computing $\\mathcal{L}$ numerically.  We'll create a dataset and fit it using several functional forms, testing the objective function as we go to see which one performs best."
      ]
    },
    {
      "cell_type": "code",
      "execution_count": null,
      "metadata": {
        "id": "xA5bgNjyF2HV"
      },
      "outputs": [],
      "source": [
        "N=1000 # number of events to generate\n",
        "generator = np.random.RandomState(seed=123)\n",
        "dataset=generator.normal(loc=2,scale=3,size=N)"
      ]
    },
    {
      "cell_type": "markdown",
      "metadata": {
        "id": "vqN9wcxJHLMO"
      },
      "source": [
        "Plot the normal distribution above, saving the bin entries as `counts` and the bin edges as `bins`.  It's best to normalize this distribution to unit area, otherwise the results below may become unstable."
      ]
    },
    {
      "cell_type": "code",
      "execution_count": null,
      "metadata": {
        "id": "AXCQXzaHHSYP",
        "colab": {
          "base_uri": "https://localhost:8080/",
          "height": 466
        },
        "outputId": "fd727d7a-38dc-4800-faff-7758ace8fa75"
      },
      "outputs": [
        {
          "output_type": "execute_result",
          "data": {
            "text/plain": [
              "Text(0, 0.5, 'Entries/Bin')"
            ]
          },
          "metadata": {},
          "execution_count": 3
        },
        {
          "output_type": "display_data",
          "data": {
            "text/plain": [
              "<Figure size 640x480 with 1 Axes>"
            ],
            "image/png": "[encoded data removed]"
          },
          "metadata": {}
        }
      ],
      "source": [
        "m=20 # number of bins in the histogram\n",
        "histrange=(-10,10) # range of the histogram\n",
        "\n",
        "# your code here\n",
        "\n",
        "\n",
        "\n",
        "\n",
        "\n",
        "z=plt.plot\n",
        "counts,bins,_=plt.hist(dataset,bins=m,range=histrange,density=True)\n",
        "plt.xlabel(\"y\")\n",
        "plt.ylabel(\"Entries/Bin\")\n"
      ]
    },
    {
      "cell_type": "markdown",
      "metadata": {
        "id": "AusXdxrJIc-P"
      },
      "source": [
        "Now compute the objective function (using the mean-square-error formula above) assuming:\n",
        "\n",
        "$$f(x)=\\frac{N}{\\sqrt{2\\pi}\\sigma}e^{-\\frac{1}{2\\sigma^2}(x-\\mu)^2}$$\n",
        "\n",
        "guessing that the mean is $\\mu=2.5$ and the width is $\\sigma=2.5$.  Remember, in this case we're going to iterate over the histogram bins, not the individual events!  Finally, keep in mind that the bin contents should really be considered to be at the bin *centers*, not the bin *edges*."
      ]
    },
    {
      "cell_type": "code",
      "execution_count": null,
      "metadata": {
        "id": "q8jKeRrTHUyn",
        "colab": {
          "base_uri": "https://localhost:8080/",
          "height": 517
        },
        "outputId": "c14587cd-2185-4ecb-cb7a-bfe8bb96323e"
      },
      "outputs": [
        {
          "output_type": "execute_result",
          "data": {
            "text/plain": [
              "(array([  0.,   0.,   2.,   3.,   6.,  15.,  28.,  44.,  75.,  89., 117.,\n",
              "        141., 139.,  90.,  96.,  69.,  46.,  26.,   8.,   3.]),\n",
              " array([-10.,  -9.,  -8.,  -7.,  -6.,  -5.,  -4.,  -3.,  -2.,  -1.,   0.,\n",
              "          1.,   2.,   3.,   4.,   5.,   6.,   7.,   8.,   9.,  10.]),\n",
              " <BarContainer object of 20 artists>)"
            ]
          },
          "metadata": {},
          "execution_count": 4
        },
        {
          "output_type": "display_data",
          "data": {
            "text/plain": [
              "<Figure size 640x480 with 1 Axes>"
            ],
            "image/png": "[encoded data removed]"
          },
          "metadata": {}
        }
      ],
      "source": [
        "# your code here\n",
        "x=bins+0.5\n",
        "\n",
        "def objective_funct(mu,sigma):\n",
        "\n",
        "  f=(N/(sigma*np.sqrt(2*np.pi)))*np.exp(-(x-mu)**2/(2*sigma**2))\n",
        "  return f\n",
        "plt.plot(x,objective_funct(2.5,2.5),'r')\n",
        "plt.hist(dataset,bins=m,range=histrange)\n"
      ]
    },
    {
      "cell_type": "markdown",
      "metadata": {
        "id": "sLeARoO-QkHs"
      },
      "source": [
        "Now put this inside of a loop, and check values of the mean in steps of 0.1 between 0 and 5 to find the minimum value of the objective function.  Keep the guess that $\\sigma=2.5$ as before:"
      ]
    },
    {
      "cell_type": "code",
      "execution_count": null,
      "metadata": {
        "id": "Hv96hJBQQ_uV",
        "colab": {
          "base_uri": "https://localhost:8080/"
        },
        "outputId": "c672bbe7-e035-403e-da8e-af5d817e2738"
      },
      "outputs": [
        {
          "output_type": "stream",
          "name": "stdout",
          "text": [
            "[0.1, 999.9704589822232]\n",
            "[0.2, 999.9731013720059]\n",
            "[0.30000000000000004, 999.9749447827685]\n",
            "[0.4, 999.9760333726454]\n",
            "[0.5, 999.9763933412363]\n",
            "[0.6000000000000001, 999.9760333726457]\n",
            "[0.7000000000000001, 999.9749447827685]\n",
            "[0.8, 999.9731013720058]\n",
            "[0.9, 999.9704589822235]\n",
            "[1.0, 999.9669547544289]\n",
            "[1.1, 999.9625060813149]\n",
            "[1.2000000000000002, 999.957009246564]\n",
            "[1.3, 999.9503377406097]\n",
            "[1.4000000000000001, 999.9423402404885]\n",
            "[1.5, 999.9328382394465]\n",
            "[1.6, 999.9216233101795]\n",
            "[1.7000000000000002, 999.9084539839781]\n",
            "[1.8, 999.8930522266613]\n",
            "[1.9000000000000001, 999.8750994910553]\n",
            "[2.0, 999.8542323249384]\n",
            "[2.1, 999.8300375128747]\n",
            "[2.2, 999.8020467302338]\n",
            "[2.3000000000000003, 999.7697306879884]\n",
            "[2.4000000000000004, 999.7324927476592]\n",
            "[2.5, 999.6896619870374]\n",
            "[2.6, 999.6404856991699]\n",
            "[2.7, 999.5841213095351]\n",
            "[2.8000000000000003, 999.51962769944]\n",
            "[2.9000000000000004, 999.4459559274699]\n",
            "[3.0, 999.3619393453553]\n",
            "[3.1, 999.2662831099377]\n",
            "[3.2, 999.1575530990194]\n",
            "[3.3000000000000003, 999.0341642458101]\n",
            "[3.4000000000000004, 998.8943683144748]\n",
            "[3.5, 998.7362411478653]\n",
            "[3.6, 998.5576694279778]\n",
            "[3.7, 998.3563369999058]\n",
            "[3.8000000000000003, 998.1297108210673]\n",
            "[3.9000000000000004, 997.8750266092121]\n",
            "[4.0, 997.5892742750538]\n",
            "[4.1000000000000005, 997.2691832383031]\n",
            "[4.2, 996.9112077391942]\n",
            "[4.3, 996.5115122712608]\n",
            "[4.4, 996.0659572749145]\n",
            "[4.5, 995.5700852451553]\n",
            "[4.6000000000000005, 995.019107420324]\n",
            "[4.7, 994.4078912319455]\n",
            "[4.800000000000001, 993.7309487082146]\n",
            "[4.9, 992.9824260352715]\n",
            "[5.0, 992.1560944908579]\n"
          ]
        }
      ],
      "source": [
        "# your code here\n",
        "mu_range=np.linspace(0,5,51)\n",
        "\n",
        "\n",
        "for i in range (1,mu_range.shape[0]):\n",
        "  mu=mu_range[i]\n",
        "  L = np.sum(objective_funct(mu,2.5))\n",
        "  L_array=([mu,L])\n",
        "  L_all=np.r_[L_array,[mu-0.1,L-11111]]\n",
        "  print(L_array)\n",
        "\n",
        "\n"
      ]
    },
    {
      "cell_type": "markdown",
      "metadata": {
        "id": "ClXEoB3VTkZJ"
      },
      "source": [
        "Now do the same thing with the width $\\sigma$, scanning from 0.1 to 5 in steps of 0.1, this time assuming for $\\mu$ the best guess of $\\mu$ from the loop above:"
      ]
    },
    {
      "cell_type": "code",
      "execution_count": null,
      "metadata": {
        "id": "HGowO6UgRsFn",
        "colab": {
          "base_uri": "https://localhost:8080/"
        },
        "outputId": "7ec2cda1-61f1-40d9-c9e3-4dbffb9d0cc5"
      },
      "outputs": [
        {
          "output_type": "stream",
          "name": "stdout",
          "text": [
            "[0.1        0.02973439]\n",
            "[  0.2        175.28300494]\n",
            "[3.00000000e-01 6.63190837e+02]\n",
            "[4.00000000e-01 9.15008412e+02]\n",
            "[5.00000000e-01 9.85616239e+02]\n",
            "[6.00000000e-01 9.98359851e+02]\n",
            "[7.00000000e-01 9.99873979e+02]\n",
            "[8.00000000e-01 9.99993476e+02]\n",
            "[9.00000000e-01 9.99999772e+02]\n",
            "[  1.         999.99999465]\n",
            "[  1.1        999.99999992]\n",
            "[   1.2 1000. ]\n",
            "[   1.3 1000. ]\n",
            "[  1.4        999.99999997]\n",
            "[  1.5        999.99999948]\n",
            "[  1.6        999.99999437]\n",
            "[  1.7        999.99995991]\n",
            "[  1.8        999.99979247]\n",
            "[  1.9        999.99916599]\n",
            "[  2.         999.99726426]\n",
            "[  2.1        999.99238944]\n",
            "[  2.2        999.98150291]\n",
            "[  2.3        999.95979578]\n",
            "[  2.4        999.92038926]\n",
            "[  2.5        999.85423232]\n",
            "[  2.6        999.75021395]\n",
            "[  2.7        999.59546265]\n",
            "[  2.8        999.37577776]\n",
            "[  2.9        999.07612903]\n",
            "[  3.         998.68116755]\n",
            "[  3.1        998.17570492]\n",
            "[  3.2        997.54513367]\n",
            "[  3.3        996.77577543]\n",
            "[  3.4        995.85515332]\n",
            "[  3.5        994.77219198]\n",
            "[  3.6        993.51735168]\n",
            "[  3.7        992.08270498]\n",
            "[  3.8       990.4619646]\n",
            "[  3.9        988.65047061]\n",
            "[  4.         986.64514478]\n",
            "[  4.1        984.44441893]\n",
            "[  4.2        982.04814334]\n",
            "[  4.3        979.45748074]\n",
            "[  4.4        976.67479052]\n",
            "[  4.5        973.70350726]\n",
            "[  4.6        970.54801703]\n",
            "[  4.7        967.21353434]\n",
            "[  4.8        963.70598199]\n",
            "[  4.9        960.03187585]\n",
            "[  5.         956.19821574]\n"
          ]
        }
      ],
      "source": [
        "# your code here\n",
        "sigma_range=np.linspace(0,5,51)\n",
        "for j in range (1,sigma_range.shape[0]):\n",
        "  sigma=sigma_range[j]\n",
        "  l=np.array([sigma,np.sum(objective_funct(2,sigma))])\n",
        "  print(l)\n"
      ]
    },
    {
      "cell_type": "markdown",
      "metadata": {
        "id": "DrJE7mwwaSqY"
      },
      "source": [
        "This is a bit of a brute-force approach.  We'll explore gradient descent for finding the local minima in a future homework."
      ]
    }
  ],
  "metadata": {
    "colab": {
      "provenance": []
    },
    "kernelspec": {
      "display_name": "Python 3 (ipykernel)",
      "language": "python",
      "name": "python3"
    },
    "language_info": {
      "codemirror_mode": {
        "name": "ipython",
        "version": 3
      },
      "file_extension": ".py",
      "mimetype": "text/x-python",
      "name": "python",
      "nbconvert_exporter": "python",
      "pygments_lexer": "ipython3",
      "version": "3.7.11"
    }
  },
  "nbformat": 4,
  "nbformat_minor": 0
}